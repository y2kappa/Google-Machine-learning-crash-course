{
 "cells": [
  {
   "cell_type": "code",
   "execution_count": 1,
   "metadata": {},
   "outputs": [
    {
     "data": {
      "text/html": [
       "<style>.container { width:100% !important; }</style>"
      ],
      "text/plain": [
       "<IPython.core.display.HTML object>"
      ]
     },
     "metadata": {},
     "output_type": "display_data"
    },
    {
     "name": "stderr",
     "output_type": "stream",
     "text": [
      "/Users/sanchez/Projects/py/Anaconda/anaconda/lib/python3.5/importlib/_bootstrap.py:222: RuntimeWarning: compiletime version 3.6 of module 'tensorflow.python.framework.fast_tensor_util' does not match runtime version 3.5\n",
      "  return f(*args, **kwds)\n"
     ]
    }
   ],
   "source": [
    "import math\n",
    "\n",
    "from IPython import display\n",
    "from IPython.core.interactiveshell import InteractiveShell\n",
    "InteractiveShell.ast_node_interactivity = \"all\"\n",
    "\n",
    "from IPython.core.display import display, HTML\n",
    "display(HTML(\"<style>.container { width:100% !important; }</style>\"))\n",
    "\n",
    "from matplotlib import cm\n",
    "from matplotlib import gridspec\n",
    "from matplotlib import pyplot as plt\n",
    "import numpy as np\n",
    "import pandas as pd\n",
    "from sklearn import metrics\n",
    "import tensorflow as tf\n",
    "from tensorflow.python.data import Dataset\n",
    "\n",
    "tf.logging.set_verbosity(tf.logging.ERROR)\n",
    "pd.options.display.max_rows = 10\n",
    "pd.options.display.float_format = '{:.1f}'.format\n",
    "\n",
    "california_housing_dataframe = \\\n",
    "    pd.read_csv(\"https://storage.googleapis.com/mledu-datasets/california_housing_train.csv\", \n",
    "                sep=\",\")\n",
    "\n",
    "# california_housing_dataframe = california_housing_dataframe.reindex(\n",
    "#     np.random.permutation(california_housing_dataframe.index))"
   ]
  },
  {
   "cell_type": "code",
   "execution_count": 2,
   "metadata": {},
   "outputs": [
    {
     "data": {
      "text/html": [
       "<div>\n",
       "<table border=\"1\" class=\"dataframe\">\n",
       "  <thead>\n",
       "    <tr style=\"text-align: right;\">\n",
       "      <th></th>\n",
       "      <th>longitude</th>\n",
       "      <th>latitude</th>\n",
       "      <th>housing_median_age</th>\n",
       "      <th>total_rooms</th>\n",
       "      <th>total_bedrooms</th>\n",
       "      <th>population</th>\n",
       "      <th>households</th>\n",
       "      <th>median_income</th>\n",
       "      <th>median_house_value</th>\n",
       "    </tr>\n",
       "  </thead>\n",
       "  <tbody>\n",
       "    <tr>\n",
       "      <th>0</th>\n",
       "      <td>-114.3</td>\n",
       "      <td>34.2</td>\n",
       "      <td>15.0</td>\n",
       "      <td>5612.0</td>\n",
       "      <td>1283.0</td>\n",
       "      <td>1015.0</td>\n",
       "      <td>472.0</td>\n",
       "      <td>1.5</td>\n",
       "      <td>66900.0</td>\n",
       "    </tr>\n",
       "    <tr>\n",
       "      <th>1</th>\n",
       "      <td>-114.5</td>\n",
       "      <td>34.4</td>\n",
       "      <td>19.0</td>\n",
       "      <td>7650.0</td>\n",
       "      <td>1901.0</td>\n",
       "      <td>1129.0</td>\n",
       "      <td>463.0</td>\n",
       "      <td>1.8</td>\n",
       "      <td>80100.0</td>\n",
       "    </tr>\n",
       "  </tbody>\n",
       "</table>\n",
       "</div>"
      ],
      "text/plain": [
       "   longitude  latitude  housing_median_age  total_rooms  total_bedrooms  \\\n",
       "0     -114.3      34.2                15.0       5612.0          1283.0   \n",
       "1     -114.5      34.4                19.0       7650.0          1901.0   \n",
       "\n",
       "   population  households  median_income  median_house_value  \n",
       "0      1015.0       472.0            1.5             66900.0  \n",
       "1      1129.0       463.0            1.8             80100.0  "
      ]
     },
     "execution_count": 2,
     "metadata": {},
     "output_type": "execute_result"
    },
    {
     "data": {
      "text/html": [
       "<div>\n",
       "<table border=\"1\" class=\"dataframe\">\n",
       "  <thead>\n",
       "    <tr style=\"text-align: right;\">\n",
       "      <th></th>\n",
       "      <th>longitude</th>\n",
       "      <th>latitude</th>\n",
       "      <th>housing_median_age</th>\n",
       "      <th>total_rooms</th>\n",
       "      <th>total_bedrooms</th>\n",
       "      <th>population</th>\n",
       "      <th>households</th>\n",
       "      <th>median_income</th>\n",
       "      <th>median_house_value</th>\n",
       "    </tr>\n",
       "  </thead>\n",
       "  <tbody>\n",
       "    <tr>\n",
       "      <th>count</th>\n",
       "      <td>17000.0</td>\n",
       "      <td>17000.0</td>\n",
       "      <td>17000.0</td>\n",
       "      <td>17000.0</td>\n",
       "      <td>17000.0</td>\n",
       "      <td>17000.0</td>\n",
       "      <td>17000.0</td>\n",
       "      <td>17000.0</td>\n",
       "      <td>17000.0</td>\n",
       "    </tr>\n",
       "    <tr>\n",
       "      <th>mean</th>\n",
       "      <td>-119.6</td>\n",
       "      <td>35.6</td>\n",
       "      <td>28.6</td>\n",
       "      <td>2643.7</td>\n",
       "      <td>539.4</td>\n",
       "      <td>1429.6</td>\n",
       "      <td>501.2</td>\n",
       "      <td>3.9</td>\n",
       "      <td>207300.9</td>\n",
       "    </tr>\n",
       "    <tr>\n",
       "      <th>std</th>\n",
       "      <td>2.0</td>\n",
       "      <td>2.1</td>\n",
       "      <td>12.6</td>\n",
       "      <td>2179.9</td>\n",
       "      <td>421.5</td>\n",
       "      <td>1147.9</td>\n",
       "      <td>384.5</td>\n",
       "      <td>1.9</td>\n",
       "      <td>115983.8</td>\n",
       "    </tr>\n",
       "    <tr>\n",
       "      <th>min</th>\n",
       "      <td>-124.3</td>\n",
       "      <td>32.5</td>\n",
       "      <td>1.0</td>\n",
       "      <td>2.0</td>\n",
       "      <td>1.0</td>\n",
       "      <td>3.0</td>\n",
       "      <td>1.0</td>\n",
       "      <td>0.5</td>\n",
       "      <td>14999.0</td>\n",
       "    </tr>\n",
       "    <tr>\n",
       "      <th>25%</th>\n",
       "      <td>-121.8</td>\n",
       "      <td>33.9</td>\n",
       "      <td>18.0</td>\n",
       "      <td>1462.0</td>\n",
       "      <td>297.0</td>\n",
       "      <td>790.0</td>\n",
       "      <td>282.0</td>\n",
       "      <td>2.6</td>\n",
       "      <td>119400.0</td>\n",
       "    </tr>\n",
       "    <tr>\n",
       "      <th>50%</th>\n",
       "      <td>-118.5</td>\n",
       "      <td>34.2</td>\n",
       "      <td>29.0</td>\n",
       "      <td>2127.0</td>\n",
       "      <td>434.0</td>\n",
       "      <td>1167.0</td>\n",
       "      <td>409.0</td>\n",
       "      <td>3.5</td>\n",
       "      <td>180400.0</td>\n",
       "    </tr>\n",
       "    <tr>\n",
       "      <th>75%</th>\n",
       "      <td>-118.0</td>\n",
       "      <td>37.7</td>\n",
       "      <td>37.0</td>\n",
       "      <td>3151.2</td>\n",
       "      <td>648.2</td>\n",
       "      <td>1721.0</td>\n",
       "      <td>605.2</td>\n",
       "      <td>4.8</td>\n",
       "      <td>265000.0</td>\n",
       "    </tr>\n",
       "    <tr>\n",
       "      <th>max</th>\n",
       "      <td>-114.3</td>\n",
       "      <td>42.0</td>\n",
       "      <td>52.0</td>\n",
       "      <td>37937.0</td>\n",
       "      <td>6445.0</td>\n",
       "      <td>35682.0</td>\n",
       "      <td>6082.0</td>\n",
       "      <td>15.0</td>\n",
       "      <td>500001.0</td>\n",
       "    </tr>\n",
       "  </tbody>\n",
       "</table>\n",
       "</div>"
      ],
      "text/plain": [
       "       longitude  latitude  housing_median_age  total_rooms  total_bedrooms  \\\n",
       "count    17000.0   17000.0             17000.0      17000.0         17000.0   \n",
       "mean      -119.6      35.6                28.6       2643.7           539.4   \n",
       "std          2.0       2.1                12.6       2179.9           421.5   \n",
       "min       -124.3      32.5                 1.0          2.0             1.0   \n",
       "25%       -121.8      33.9                18.0       1462.0           297.0   \n",
       "50%       -118.5      34.2                29.0       2127.0           434.0   \n",
       "75%       -118.0      37.7                37.0       3151.2           648.2   \n",
       "max       -114.3      42.0                52.0      37937.0          6445.0   \n",
       "\n",
       "       population  households  median_income  median_house_value  \n",
       "count     17000.0     17000.0        17000.0             17000.0  \n",
       "mean       1429.6       501.2            3.9            207300.9  \n",
       "std        1147.9       384.5            1.9            115983.8  \n",
       "min           3.0         1.0            0.5             14999.0  \n",
       "25%         790.0       282.0            2.6            119400.0  \n",
       "50%        1167.0       409.0            3.5            180400.0  \n",
       "75%        1721.0       605.2            4.8            265000.0  \n",
       "max       35682.0      6082.0           15.0            500001.0  "
      ]
     },
     "execution_count": 2,
     "metadata": {},
     "output_type": "execute_result"
    }
   ],
   "source": [
    "california_housing_dataframe.head(2)\n",
    "california_housing_dataframe.describe()"
   ]
  },
  {
   "cell_type": "code",
   "execution_count": 3,
   "metadata": {},
   "outputs": [],
   "source": [
    "def preprocess_features(california_housing_dataframe):\n",
    "    \"\"\"Prepares input features from California housing data set.\n",
    "\n",
    "    Args:\n",
    "    california_housing_dataframe: A Pandas DataFrame expected to contain data\n",
    "      from the California housing data set.\n",
    "    Returns:\n",
    "    A DataFrame that contains the features to be used for the model, including\n",
    "    synthetic features.\n",
    "    \"\"\"\n",
    "    \n",
    "    selected_features = california_housing_dataframe[\n",
    "        [\"latitude\",\n",
    "         \"longitude\",\n",
    "         \"housing_median_age\",\n",
    "         \"total_rooms\",\n",
    "         \"total_bedrooms\",\n",
    "         \"population\",\n",
    "         \"households\",\n",
    "         \"median_income\"]\n",
    "    ]\n",
    "    \n",
    "    processed_features = selected_features.copy()\n",
    "    \n",
    "    # Create a synthetic feature.\n",
    "    processed_features[\"rooms_per_person\"] = (\n",
    "        california_housing_dataframe[\"total_rooms\"] /\n",
    "        california_housing_dataframe[\"population\"])\n",
    "    \n",
    "    return processed_features"
   ]
  },
  {
   "cell_type": "code",
   "execution_count": 4,
   "metadata": {},
   "outputs": [],
   "source": [
    "def preprocess_targets(california_housing_dataframe):\n",
    "    \"\"\"Prepares target features (i.e., labels) from California housing data set.\n",
    "\n",
    "    Args:\n",
    "    california_housing_dataframe: A Pandas DataFrame expected to contain data\n",
    "      from the California housing data set.\n",
    "    Returns:\n",
    "    A DataFrame that contains the target feature.\n",
    "    \"\"\"\n",
    "    \n",
    "    output_targets = pd.DataFrame()\n",
    "    \n",
    "    # Scale the target to be in units of thousands of dollars.\n",
    "    output_targets[\"median_house_value\"] = (\n",
    "        california_housing_dataframe[\"median_house_value\"] / 1000.0)\n",
    "    \n",
    "    return output_targets"
   ]
  },
  {
   "cell_type": "markdown",
   "metadata": {},
   "source": [
    "## Inspect data"
   ]
  },
  {
   "cell_type": "code",
   "execution_count": 5,
   "metadata": {},
   "outputs": [
    {
     "name": "stdout",
     "output_type": "stream",
     "text": [
      "Training features\n"
     ]
    },
    {
     "data": {
      "text/html": [
       "<div>\n",
       "<table border=\"1\" class=\"dataframe\">\n",
       "  <thead>\n",
       "    <tr style=\"text-align: right;\">\n",
       "      <th></th>\n",
       "      <th>latitude</th>\n",
       "      <th>longitude</th>\n",
       "      <th>housing_median_age</th>\n",
       "      <th>total_rooms</th>\n",
       "      <th>total_bedrooms</th>\n",
       "      <th>population</th>\n",
       "      <th>households</th>\n",
       "      <th>median_income</th>\n",
       "      <th>rooms_per_person</th>\n",
       "    </tr>\n",
       "  </thead>\n",
       "  <tbody>\n",
       "    <tr>\n",
       "      <th>count</th>\n",
       "      <td>12000.0</td>\n",
       "      <td>12000.0</td>\n",
       "      <td>12000.0</td>\n",
       "      <td>12000.0</td>\n",
       "      <td>12000.0</td>\n",
       "      <td>12000.0</td>\n",
       "      <td>12000.0</td>\n",
       "      <td>12000.0</td>\n",
       "      <td>12000.0</td>\n",
       "    </tr>\n",
       "    <tr>\n",
       "      <th>mean</th>\n",
       "      <td>35.6</td>\n",
       "      <td>-119.5</td>\n",
       "      <td>28.7</td>\n",
       "      <td>2631.0</td>\n",
       "      <td>538.1</td>\n",
       "      <td>1423.4</td>\n",
       "      <td>499.6</td>\n",
       "      <td>3.9</td>\n",
       "      <td>2.0</td>\n",
       "    </tr>\n",
       "    <tr>\n",
       "      <th>std</th>\n",
       "      <td>2.1</td>\n",
       "      <td>2.0</td>\n",
       "      <td>12.6</td>\n",
       "      <td>2114.6</td>\n",
       "      <td>412.7</td>\n",
       "      <td>1121.0</td>\n",
       "      <td>375.0</td>\n",
       "      <td>1.9</td>\n",
       "      <td>1.1</td>\n",
       "    </tr>\n",
       "    <tr>\n",
       "      <th>min</th>\n",
       "      <td>32.5</td>\n",
       "      <td>-124.3</td>\n",
       "      <td>1.0</td>\n",
       "      <td>2.0</td>\n",
       "      <td>1.0</td>\n",
       "      <td>6.0</td>\n",
       "      <td>1.0</td>\n",
       "      <td>0.5</td>\n",
       "      <td>0.0</td>\n",
       "    </tr>\n",
       "    <tr>\n",
       "      <th>25%</th>\n",
       "      <td>33.9</td>\n",
       "      <td>-121.8</td>\n",
       "      <td>18.0</td>\n",
       "      <td>1455.0</td>\n",
       "      <td>295.0</td>\n",
       "      <td>786.0</td>\n",
       "      <td>280.0</td>\n",
       "      <td>2.6</td>\n",
       "      <td>1.5</td>\n",
       "    </tr>\n",
       "    <tr>\n",
       "      <th>50%</th>\n",
       "      <td>34.2</td>\n",
       "      <td>-118.5</td>\n",
       "      <td>29.0</td>\n",
       "      <td>2129.0</td>\n",
       "      <td>436.0</td>\n",
       "      <td>1168.0</td>\n",
       "      <td>410.0</td>\n",
       "      <td>3.5</td>\n",
       "      <td>1.9</td>\n",
       "    </tr>\n",
       "    <tr>\n",
       "      <th>75%</th>\n",
       "      <td>37.7</td>\n",
       "      <td>-118.0</td>\n",
       "      <td>37.0</td>\n",
       "      <td>3153.0</td>\n",
       "      <td>651.0</td>\n",
       "      <td>1717.0</td>\n",
       "      <td>607.0</td>\n",
       "      <td>4.8</td>\n",
       "      <td>2.3</td>\n",
       "    </tr>\n",
       "    <tr>\n",
       "      <th>max</th>\n",
       "      <td>42.0</td>\n",
       "      <td>-114.6</td>\n",
       "      <td>52.0</td>\n",
       "      <td>30405.0</td>\n",
       "      <td>4957.0</td>\n",
       "      <td>35682.0</td>\n",
       "      <td>4769.0</td>\n",
       "      <td>15.0</td>\n",
       "      <td>52.0</td>\n",
       "    </tr>\n",
       "  </tbody>\n",
       "</table>\n",
       "</div>"
      ],
      "text/plain": [
       "       latitude  longitude  housing_median_age  total_rooms  total_bedrooms  \\\n",
       "count   12000.0    12000.0             12000.0      12000.0         12000.0   \n",
       "mean       35.6     -119.5                28.7       2631.0           538.1   \n",
       "std         2.1        2.0                12.6       2114.6           412.7   \n",
       "min        32.5     -124.3                 1.0          2.0             1.0   \n",
       "25%        33.9     -121.8                18.0       1455.0           295.0   \n",
       "50%        34.2     -118.5                29.0       2129.0           436.0   \n",
       "75%        37.7     -118.0                37.0       3153.0           651.0   \n",
       "max        42.0     -114.6                52.0      30405.0          4957.0   \n",
       "\n",
       "       population  households  median_income  rooms_per_person  \n",
       "count     12000.0     12000.0        12000.0           12000.0  \n",
       "mean       1423.4       499.6            3.9               2.0  \n",
       "std        1121.0       375.0            1.9               1.1  \n",
       "min           6.0         1.0            0.5               0.0  \n",
       "25%         786.0       280.0            2.6               1.5  \n",
       "50%        1168.0       410.0            3.5               1.9  \n",
       "75%        1717.0       607.0            4.8               2.3  \n",
       "max       35682.0      4769.0           15.0              52.0  "
      ]
     },
     "execution_count": 5,
     "metadata": {},
     "output_type": "execute_result"
    },
    {
     "name": "stdout",
     "output_type": "stream",
     "text": [
      "Training targets\n"
     ]
    },
    {
     "data": {
      "text/html": [
       "<div>\n",
       "<table border=\"1\" class=\"dataframe\">\n",
       "  <thead>\n",
       "    <tr style=\"text-align: right;\">\n",
       "      <th></th>\n",
       "      <th>median_house_value</th>\n",
       "    </tr>\n",
       "  </thead>\n",
       "  <tbody>\n",
       "    <tr>\n",
       "      <th>count</th>\n",
       "      <td>12000.0</td>\n",
       "    </tr>\n",
       "    <tr>\n",
       "      <th>mean</th>\n",
       "      <td>207.4</td>\n",
       "    </tr>\n",
       "    <tr>\n",
       "      <th>std</th>\n",
       "      <td>115.5</td>\n",
       "    </tr>\n",
       "    <tr>\n",
       "      <th>min</th>\n",
       "      <td>15.0</td>\n",
       "    </tr>\n",
       "    <tr>\n",
       "      <th>25%</th>\n",
       "      <td>120.2</td>\n",
       "    </tr>\n",
       "    <tr>\n",
       "      <th>50%</th>\n",
       "      <td>180.8</td>\n",
       "    </tr>\n",
       "    <tr>\n",
       "      <th>75%</th>\n",
       "      <td>264.2</td>\n",
       "    </tr>\n",
       "    <tr>\n",
       "      <th>max</th>\n",
       "      <td>500.0</td>\n",
       "    </tr>\n",
       "  </tbody>\n",
       "</table>\n",
       "</div>"
      ],
      "text/plain": [
       "       median_house_value\n",
       "count             12000.0\n",
       "mean                207.4\n",
       "std                 115.5\n",
       "min                  15.0\n",
       "25%                 120.2\n",
       "50%                 180.8\n",
       "75%                 264.2\n",
       "max                 500.0"
      ]
     },
     "execution_count": 5,
     "metadata": {},
     "output_type": "execute_result"
    },
    {
     "name": "stdout",
     "output_type": "stream",
     "text": [
      "Validation features\n"
     ]
    },
    {
     "data": {
      "text/html": [
       "<div>\n",
       "<table border=\"1\" class=\"dataframe\">\n",
       "  <thead>\n",
       "    <tr style=\"text-align: right;\">\n",
       "      <th></th>\n",
       "      <th>latitude</th>\n",
       "      <th>longitude</th>\n",
       "      <th>housing_median_age</th>\n",
       "      <th>total_rooms</th>\n",
       "      <th>total_bedrooms</th>\n",
       "      <th>population</th>\n",
       "      <th>households</th>\n",
       "      <th>median_income</th>\n",
       "      <th>rooms_per_person</th>\n",
       "    </tr>\n",
       "  </thead>\n",
       "  <tbody>\n",
       "    <tr>\n",
       "      <th>count</th>\n",
       "      <td>5000.0</td>\n",
       "      <td>5000.0</td>\n",
       "      <td>5000.0</td>\n",
       "      <td>5000.0</td>\n",
       "      <td>5000.0</td>\n",
       "      <td>5000.0</td>\n",
       "      <td>5000.0</td>\n",
       "      <td>5000.0</td>\n",
       "      <td>5000.0</td>\n",
       "    </tr>\n",
       "    <tr>\n",
       "      <th>mean</th>\n",
       "      <td>35.7</td>\n",
       "      <td>-119.6</td>\n",
       "      <td>28.4</td>\n",
       "      <td>2674.1</td>\n",
       "      <td>542.5</td>\n",
       "      <td>1444.5</td>\n",
       "      <td>505.0</td>\n",
       "      <td>3.9</td>\n",
       "      <td>2.0</td>\n",
       "    </tr>\n",
       "    <tr>\n",
       "      <th>std</th>\n",
       "      <td>2.2</td>\n",
       "      <td>2.0</td>\n",
       "      <td>12.5</td>\n",
       "      <td>2329.2</td>\n",
       "      <td>442.0</td>\n",
       "      <td>1209.8</td>\n",
       "      <td>406.6</td>\n",
       "      <td>2.0</td>\n",
       "      <td>1.3</td>\n",
       "    </tr>\n",
       "    <tr>\n",
       "      <th>min</th>\n",
       "      <td>32.6</td>\n",
       "      <td>-124.2</td>\n",
       "      <td>2.0</td>\n",
       "      <td>11.0</td>\n",
       "      <td>3.0</td>\n",
       "      <td>3.0</td>\n",
       "      <td>2.0</td>\n",
       "      <td>0.5</td>\n",
       "      <td>0.1</td>\n",
       "    </tr>\n",
       "    <tr>\n",
       "      <th>25%</th>\n",
       "      <td>33.9</td>\n",
       "      <td>-121.8</td>\n",
       "      <td>18.0</td>\n",
       "      <td>1471.0</td>\n",
       "      <td>300.8</td>\n",
       "      <td>801.0</td>\n",
       "      <td>285.0</td>\n",
       "      <td>2.6</td>\n",
       "      <td>1.5</td>\n",
       "    </tr>\n",
       "    <tr>\n",
       "      <th>50%</th>\n",
       "      <td>34.3</td>\n",
       "      <td>-118.5</td>\n",
       "      <td>29.0</td>\n",
       "      <td>2125.0</td>\n",
       "      <td>429.0</td>\n",
       "      <td>1165.0</td>\n",
       "      <td>405.0</td>\n",
       "      <td>3.5</td>\n",
       "      <td>2.0</td>\n",
       "    </tr>\n",
       "    <tr>\n",
       "      <th>75%</th>\n",
       "      <td>37.7</td>\n",
       "      <td>-118.0</td>\n",
       "      <td>37.0</td>\n",
       "      <td>3145.8</td>\n",
       "      <td>644.0</td>\n",
       "      <td>1731.2</td>\n",
       "      <td>601.0</td>\n",
       "      <td>4.8</td>\n",
       "      <td>2.3</td>\n",
       "    </tr>\n",
       "    <tr>\n",
       "      <th>max</th>\n",
       "      <td>41.9</td>\n",
       "      <td>-114.3</td>\n",
       "      <td>52.0</td>\n",
       "      <td>37937.0</td>\n",
       "      <td>6445.0</td>\n",
       "      <td>28566.0</td>\n",
       "      <td>6082.0</td>\n",
       "      <td>15.0</td>\n",
       "      <td>55.2</td>\n",
       "    </tr>\n",
       "  </tbody>\n",
       "</table>\n",
       "</div>"
      ],
      "text/plain": [
       "       latitude  longitude  housing_median_age  total_rooms  total_bedrooms  \\\n",
       "count    5000.0     5000.0              5000.0       5000.0          5000.0   \n",
       "mean       35.7     -119.6                28.4       2674.1           542.5   \n",
       "std         2.2        2.0                12.5       2329.2           442.0   \n",
       "min        32.6     -124.2                 2.0         11.0             3.0   \n",
       "25%        33.9     -121.8                18.0       1471.0           300.8   \n",
       "50%        34.3     -118.5                29.0       2125.0           429.0   \n",
       "75%        37.7     -118.0                37.0       3145.8           644.0   \n",
       "max        41.9     -114.3                52.0      37937.0          6445.0   \n",
       "\n",
       "       population  households  median_income  rooms_per_person  \n",
       "count      5000.0      5000.0         5000.0            5000.0  \n",
       "mean       1444.5       505.0            3.9               2.0  \n",
       "std        1209.8       406.6            2.0               1.3  \n",
       "min           3.0         2.0            0.5               0.1  \n",
       "25%         801.0       285.0            2.6               1.5  \n",
       "50%        1165.0       405.0            3.5               2.0  \n",
       "75%        1731.2       601.0            4.8               2.3  \n",
       "max       28566.0      6082.0           15.0              55.2  "
      ]
     },
     "execution_count": 5,
     "metadata": {},
     "output_type": "execute_result"
    },
    {
     "name": "stdout",
     "output_type": "stream",
     "text": [
      "Validation targets\n"
     ]
    },
    {
     "data": {
      "text/html": [
       "<div>\n",
       "<table border=\"1\" class=\"dataframe\">\n",
       "  <thead>\n",
       "    <tr style=\"text-align: right;\">\n",
       "      <th></th>\n",
       "      <th>median_house_value</th>\n",
       "    </tr>\n",
       "  </thead>\n",
       "  <tbody>\n",
       "    <tr>\n",
       "      <th>count</th>\n",
       "      <td>5000.0</td>\n",
       "    </tr>\n",
       "    <tr>\n",
       "      <th>mean</th>\n",
       "      <td>207.0</td>\n",
       "    </tr>\n",
       "    <tr>\n",
       "      <th>std</th>\n",
       "      <td>117.2</td>\n",
       "    </tr>\n",
       "    <tr>\n",
       "      <th>min</th>\n",
       "      <td>15.0</td>\n",
       "    </tr>\n",
       "    <tr>\n",
       "      <th>25%</th>\n",
       "      <td>118.2</td>\n",
       "    </tr>\n",
       "    <tr>\n",
       "      <th>50%</th>\n",
       "      <td>178.9</td>\n",
       "    </tr>\n",
       "    <tr>\n",
       "      <th>75%</th>\n",
       "      <td>266.8</td>\n",
       "    </tr>\n",
       "    <tr>\n",
       "      <th>max</th>\n",
       "      <td>500.0</td>\n",
       "    </tr>\n",
       "  </tbody>\n",
       "</table>\n",
       "</div>"
      ],
      "text/plain": [
       "       median_house_value\n",
       "count              5000.0\n",
       "mean                207.0\n",
       "std                 117.2\n",
       "min                  15.0\n",
       "25%                 118.2\n",
       "50%                 178.9\n",
       "75%                 266.8\n",
       "max                 500.0"
      ]
     },
     "execution_count": 5,
     "metadata": {},
     "output_type": "execute_result"
    }
   ],
   "source": [
    "california_housing_dataframe = california_housing_dataframe.reindex(\n",
    "    np.random.permutation(california_housing_dataframe.index))\n",
    "\n",
    "training_features = preprocess_features(california_housing_dataframe.head(12000))\n",
    "print (\"Training features\")\n",
    "training_features.describe()\n",
    "\n",
    "training_targets = preprocess_targets(california_housing_dataframe.head(12000))\n",
    "print (\"Training targets\")\n",
    "training_targets.describe()\n",
    "\n",
    "validation_features = preprocess_features(california_housing_dataframe.tail(5000))\n",
    "print (\"Validation features\")\n",
    "validation_features.describe()\n",
    "\n",
    "validation_targets = preprocess_targets(california_housing_dataframe.tail(5000))\n",
    "print (\"Validation targets\")\n",
    "validation_targets.describe()"
   ]
  },
  {
   "cell_type": "markdown",
   "metadata": {},
   "source": [
    "## Plot latitude/longitude vs median house value"
   ]
  },
  {
   "cell_type": "code",
   "execution_count": 6,
   "metadata": {},
   "outputs": [
    {
     "data": {
      "text/plain": [
       "<matplotlib.figure.Figure at 0x1256fb518>"
      ]
     },
     "execution_count": 6,
     "metadata": {},
     "output_type": "execute_result"
    },
    {
     "data": {
      "text/plain": [
       "Text(0.5,1,'Validation Data')"
      ]
     },
     "execution_count": 6,
     "metadata": {},
     "output_type": "execute_result"
    },
    {
     "data": {
      "text/plain": [
       "(32, 43)"
      ]
     },
     "execution_count": 6,
     "metadata": {},
     "output_type": "execute_result"
    },
    {
     "data": {
      "text/plain": [
       "(-126, -112)"
      ]
     },
     "execution_count": 6,
     "metadata": {},
     "output_type": "execute_result"
    },
    {
     "data": {
      "text/plain": [
       "<matplotlib.collections.PathCollection at 0x104390128>"
      ]
     },
     "execution_count": 6,
     "metadata": {},
     "output_type": "execute_result"
    },
    {
     "data": {
      "text/plain": [
       "Text(0.5,1,'Training Data')"
      ]
     },
     "execution_count": 6,
     "metadata": {},
     "output_type": "execute_result"
    },
    {
     "data": {
      "text/plain": [
       "(32, 43)"
      ]
     },
     "execution_count": 6,
     "metadata": {},
     "output_type": "execute_result"
    },
    {
     "data": {
      "text/plain": [
       "(-126, -112)"
      ]
     },
     "execution_count": 6,
     "metadata": {},
     "output_type": "execute_result"
    },
    {
     "data": {
      "text/plain": [
       "<matplotlib.collections.PathCollection at 0x126be20b8>"
      ]
     },
     "execution_count": 6,
     "metadata": {},
     "output_type": "execute_result"
    },
    {
     "data": {
      "image/png": "[encoded data removed]",
      "text/plain": [
       "<matplotlib.figure.Figure at 0x1256fb518>"
      ]
     },
     "metadata": {},
     "output_type": "display_data"
    }
   ],
   "source": [
    "plt.figure(figsize=(13, 8))\n",
    "\n",
    "ax = plt.subplot(1, 2, 1)\n",
    "ax.set_title(\"Validation Data\")\n",
    "\n",
    "ax.set_autoscaley_on(False)\n",
    "ax.set_ylim([32, 43])\n",
    "ax.set_autoscalex_on(False)\n",
    "ax.set_xlim([-126, -112])\n",
    "\n",
    "plt.scatter(validation_features[\"longitude\"],\n",
    "            validation_features[\"latitude\"],\n",
    "            cmap=\"coolwarm\",\n",
    "            c=validation_targets[\"median_house_value\"] / validation_targets[\"median_house_value\"].max())\n",
    "\n",
    "ax = plt.subplot(1, 2, 2)\n",
    "ax.set_title(\"Training Data\")\n",
    "\n",
    "\n",
    "ax.set_autoscaley_on(False)\n",
    "ax.set_ylim([32, 43])\n",
    "ax.set_autoscalex_on(False)\n",
    "ax.set_xlim([-126, -112])\n",
    "\n",
    "plt.scatter(training_features[\"longitude\"],\n",
    "            training_features[\"latitude\"],\n",
    "            cmap=\"coolwarm\",\n",
    "            c=training_targets[\"median_house_value\"] / training_targets[\"median_house_value\"].max())\n",
    "\n",
    "# Red is expensive"
   ]
  },
  {
   "cell_type": "code",
   "execution_count": 7,
   "metadata": {},
   "outputs": [],
   "source": [
    "def my_input_fn(features, targets, batch_size=1, shuffle=True, num_epochs=None):\n",
    "    features = {key: np.array(value) for key, value in dict(features).items()}\n",
    "    \n",
    "    ds = Dataset.from_tensor_slices((features, targets))\n",
    "    ds = ds.batch(batch_size).repeat(num_epochs)\n",
    "    \n",
    "    if shuffle:\n",
    "        ds = ds.shuffle(10000)\n",
    "        \n",
    "    features, labels = ds.make_one_shot_iterator().get_next()\n",
    "    return features, labels"
   ]
  },
  {
   "cell_type": "code",
   "execution_count": 8,
   "metadata": {},
   "outputs": [],
   "source": [
    "def construct_feature_columns(input_features):\n",
    "    \"\"\"\n",
    "    Construct the TensorFlow Feature Columns.\n",
    "    \n",
    "    Ars:\n",
    "        input_features: The names of the numerical input features to use.\n",
    "        \n",
    "    Returns:\n",
    "        A set of feature columns\n",
    "    \"\"\"\n",
    "    \n",
    "    return set([tf.feature_column.numeric_column(my_feature)\n",
    "               for my_feature in input_features])"
   ]
  },
  {
   "cell_type": "markdown",
   "metadata": {},
   "source": [
    "### NOTE: It's okay to reference the code from the previous exercises, but make sure to call predict() on the appropriate data sets.\n",
    "\n",
    "Compare the losses on training data and validation data. With a single raw feature, our best root mean squared error (RMSE) was of about 180.\n"
   ]
  },
  {
   "cell_type": "code",
   "execution_count": 13,
   "metadata": {},
   "outputs": [],
   "source": [
    "def train_model(\n",
    "    learning_rate,\n",
    "    steps,\n",
    "    batch_size,\n",
    "    training_features,\n",
    "    training_targets,\n",
    "    validation_features,\n",
    "    validation_targets\n",
    "    ):\n",
    "    \"\"\"Trains a linear regression model of multiple features.\n",
    "    \n",
    "    In addition to training, this function also prints training progress information,\n",
    "    as well as a plot of the training and validation loss over time\n",
    "    \n",
    "    Args:\n",
    "        learning_reate: a `float`, the learning rate\n",
    "        steps: A non-zero `int`, the total number of training steps. A training step\n",
    "            consists of a forward and backward pass using a simple batch.\n",
    "        batch_size: A non-zero `int`, the batch size.\n",
    "        training_features: A `DataFrame` containing one or more columns from \n",
    "            `california_housing_dataframe` to use as input features for training\n",
    "        training_targets: same.\n",
    "        validation_features: same.\n",
    "        validation_targets: same.\n",
    "        \n",
    "    Returns:\n",
    "        A `LinearRegressor` object trained on the training data.\n",
    "    \"\"\"\n",
    "    \n",
    "    periods = 10\n",
    "    steps_per_period = steps / periods\n",
    "    \n",
    "    # Create a linear regressor object.\n",
    "    my_optimizer = tf.train.GradientDescentOptimizer(learning_rate=learning_rate)\n",
    "    my_optimizer = tf.contrib.estimator.clip_gradients_by_norm(my_optimizer, 5.0)\n",
    "    linear_regressor = tf.estimator.LinearRegressor(\n",
    "        feature_columns = construct_feature_columns(training_features),\n",
    "        optimizer=my_optimizer\n",
    "    )\n",
    "    \n",
    "    # 1. Create input functions.\n",
    "    training_input_fn =  lambda:my_input_fn(\n",
    "        training_features, \n",
    "        training_targets[\"median_house_value\"], \n",
    "        batch_size=batch_size)\n",
    "    \n",
    "    predict_training_input_fn = lambda:my_input_fn(\n",
    "        training_features, \n",
    "        training_targets[\"median_house_value\"], \n",
    "        num_epochs=1, \n",
    "        shuffle=False)\n",
    "    \n",
    "    predict_validation_input_fn = lambda:my_input_fn(\n",
    "        validation_features, \n",
    "        validation_targets[\"median_house_value\"], \n",
    "        num_epochs=1, \n",
    "        shuffle=False)\n",
    "    \n",
    "    # Train the model, but do so inside a loop so that we can periodically assess\n",
    "    # loss metrics\n",
    "    \n",
    "    print (\"Training model...\")\n",
    "    print (\"RMSE (on training data): \")\n",
    "    training_rmse = []\n",
    "    validation_rmse = []\n",
    "    \n",
    "    for period in range(0, periods):\n",
    "        # Train the model, starting from the prior state\n",
    "        linear_regressor.train(\n",
    "            input_fn = training_input_fn,\n",
    "            steps = steps_per_period\n",
    "        )\n",
    "        \n",
    "        # 2. Take a break and compute predictions.\n",
    "        training_predictions = linear_regressor.predict(input_fn=predict_training_input_fn)\n",
    "        training_predictions = np.array([item['predictions'][0] for item in training_predictions])\n",
    "        \n",
    "        validation_predictions =  linear_regressor.predict(input_fn=predict_validation_input_fn)\n",
    "        validation_predictions = np.array([item['predictions'][0] for item in validation_predictions])\n",
    "            \n",
    "        # Compute training and validation loss\n",
    "        training_root_mean_squared_error = math.sqrt(\n",
    "            metrics.mean_squared_error(training_predictions, training_targets)\n",
    "        )\n",
    "        validation_root_mean_squared_error = math.sqrt(\n",
    "            metrics.mean_squared_error(validation_predictions, validation_targets)\n",
    "        )\n",
    "        \n",
    "        # Occasionally print the current loss\n",
    "        print (\" period %02d : %0.2f\" % (period, training_root_mean_squared_error))\n",
    "        # Add the loss metrics from this period to our list\n",
    "        training_rmse.append(training_root_mean_squared_error)\n",
    "        validation_rmse.append(validation_root_mean_squared_error)\n",
    "        \n",
    "    print (\"Model training finished\")\n",
    "    \n",
    "    # Output a graph of loss metrics over periods\n",
    "    plt.ylabel(\"RMSE\")\n",
    "    plt.xlabel(\"Periods\")\n",
    "    plt.title(\"Root mean squared error vs periods\")\n",
    "    plt.tight_layout()\n",
    "    plt.plot(training_rmse, label=\"training\")\n",
    "    plt.plot(validation_rmse, label=\"validation\")\n",
    "    plt.legend()\n",
    "    \n",
    "    return linear_regressor\n"
   ]
  },
  {
   "cell_type": "code",
   "execution_count": 14,
   "metadata": {},
   "outputs": [
    {
     "name": "stdout",
     "output_type": "stream",
     "text": [
      "Training model...\n",
      "RMSE (on training data): \n",
      " period 00 : 236.06\n",
      " period 01 : 234.68\n",
      " period 02 : 233.34\n",
      " period 03 : 231.99\n",
      " period 04 : 230.72\n",
      " period 05 : 229.39\n",
      " period 06 : 228.05\n",
      " period 07 : 226.73\n",
      " period 08 : 225.43\n",
      " period 09 : 224.13\n",
      "Model training finished\n"
     ]
    },
    {
     "data": {
      "image/png": "[encoded data removed]",
      "text/plain": [
       "<matplotlib.figure.Figure at 0x125a03908>"
      ]
     },
     "metadata": {},
     "output_type": "display_data"
    }
   ],
   "source": [
    "linear_regressor = train_model(\n",
    "    learning_rate = 0.00001,\n",
    "    steps = 100,\n",
    "    batch_size = 1,\n",
    "    training_features = training_features,\n",
    "    training_targets = training_targets,\n",
    "    validation_features = validation_features,\n",
    "    validation_targets = validation_targets\n",
    "    )"
   ]
  },
  {
   "cell_type": "code",
   "execution_count": 16,
   "metadata": {},
   "outputs": [
    {
     "name": "stdout",
     "output_type": "stream",
     "text": [
      "Training model...\n",
      "RMSE (on training data): \n",
      " period 00 : 181.21\n",
      " period 01 : 165.12\n",
      " period 02 : 166.50\n",
      " period 03 : 165.28\n",
      " period 04 : 164.72\n",
      " period 05 : 165.56\n",
      " period 06 : 165.11\n",
      " period 07 : 165.35\n",
      " period 08 : 165.83\n",
      " period 09 : 164.95\n",
      "Model training finished\n"
     ]
    },
    {
     "data": {
      "image/png": "[encoded data removed]",
      "text/plain": [
       "<matplotlib.figure.Figure at 0x12a688fd0>"
      ]
     },
     "metadata": {},
     "output_type": "display_data"
    }
   ],
   "source": [
    "linear_regressor = train_model(\n",
    "    learning_rate = 0.0001,\n",
    "    steps = 500,\n",
    "    batch_size = 20,\n",
    "    training_features = training_features,\n",
    "    training_targets = training_targets,\n",
    "    validation_features = validation_features,\n",
    "    validation_targets = validation_targets\n",
    "    )"
   ]
  },
  {
   "cell_type": "code",
   "execution_count": 21,
   "metadata": {},
   "outputs": [
    {
     "name": "stdout",
     "output_type": "stream",
     "text": [
      "Training model...\n",
      "RMSE (on training data): \n",
      " period 00 : 209.99\n",
      " period 01 : 188.62\n",
      " period 02 : 174.30\n",
      " period 03 : 166.82\n",
      " period 04 : 164.96\n",
      " period 05 : 165.34\n",
      " period 06 : 167.06\n",
      " period 07 : 168.79\n",
      " period 08 : 169.52\n",
      " period 09 : 169.05\n",
      "Model training finished\n"
     ]
    },
    {
     "data": {
      "image/png": "[encoded data removed]",
      "text/plain": [
       "<matplotlib.figure.Figure at 0x132aa0898>"
      ]
     },
     "metadata": {},
     "output_type": "display_data"
    }
   ],
   "source": [
    "linear_regressor = train_model(\n",
    "    learning_rate = 0.00003,\n",
    "    steps = 700,\n",
    "    batch_size = 5,\n",
    "    training_features = training_features,\n",
    "    training_targets = training_targets,\n",
    "    validation_features = validation_features,\n",
    "    validation_targets = validation_targets\n",
    "    )"
   ]
  },
  {
   "cell_type": "code",
   "execution_count": 20,
   "metadata": {},
   "outputs": [],
   "source": [
    "california_housing_test_data = pd.read_csv(\n",
    "    \"https://storage.googleapis.com/mledu-datasets/california_housing_test.csv\", sep=\",\")"
   ]
  },
  {
   "cell_type": "code",
   "execution_count": 22,
   "metadata": {},
   "outputs": [
    {
     "name": "stdout",
     "output_type": "stream",
     "text": [
      "164.69067882309628\n"
     ]
    }
   ],
   "source": [
    "test_features = preprocess_features(california_housing_test_data)\n",
    "test_targets = preprocess_targets(california_housing_test_data)\n",
    "\n",
    "predict_test_input_fn = lambda:my_input_fn(\n",
    "        test_features, \n",
    "        test_targets[\"median_house_value\"], \n",
    "        num_epochs=1, \n",
    "        shuffle=False)\n",
    "\n",
    "test_predictions = linear_regressor.predict(input_fn=predict_test_input_fn)\n",
    "test_predictions = np.array([item['predictions'][0] for item in test_predictions])\n",
    "\n",
    "test_root_mean_squared_error = math.sqrt(\n",
    "    metrics.mean_squared_error(test_predictions, test_targets)\n",
    ")\n",
    "\n",
    "print (test_root_mean_squared_error)\n"
   ]
  },
  {
   "cell_type": "code",
   "execution_count": null,
   "metadata": {},
   "outputs": [],
   "source": []
  },
  {
   "cell_type": "code",
   "execution_count": null,
   "metadata": {},
   "outputs": [],
   "source": []
  },
  {
   "cell_type": "code",
   "execution_count": null,
   "metadata": {},
   "outputs": [],
   "source": []
  },
  {
   "cell_type": "code",
   "execution_count": null,
   "metadata": {},
   "outputs": [],
   "source": []
  },
  {
   "cell_type": "code",
   "execution_count": null,
   "metadata": {},
   "outputs": [],
   "source": []
  }
 ],
 "metadata": {
  "anaconda-cloud": {},
  "kernelspec": {
   "display_name": "Python [Root]",
   "language": "python",
   "name": "Python [Root]"
  },
  "language_info": {
   "codemirror_mode": {
    "name": "ipython",
    "version": 3
   },
   "file_extension": ".py",
   "mimetype": "text/x-python",
   "name": "python",
   "nbconvert_exporter": "python",
   "pygments_lexer": "ipython3",
   "version": "3.5.2"
  }
 },
 "nbformat": 4,
 "nbformat_minor": 2
}
